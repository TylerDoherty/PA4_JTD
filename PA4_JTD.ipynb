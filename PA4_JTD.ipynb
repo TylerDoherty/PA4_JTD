{
 "cells": [
  {
   "cell_type": "markdown",
   "id": "a0999ba1",
   "metadata": {},
   "source": [
    "## PA4\n",
    "#### Tyler Doherty\n",
    "#### Version 1 \n",
    "#### Fall 2023"
   ]
  },
  {
   "cell_type": "markdown",
   "id": "72e62160",
   "metadata": {},
   "source": [
    "# Task 1: Grade Calculator\n",
    "#### A. Create a list named grades containing five numerical grades (0-100).\n",
    "#### B. Calculate the average grade from the list.\n",
    "#### C. Use an if-else condition to determine the letter grade based on the average as follows:\n",
    "#### 90-100: \"A\" 80-89: \"B\" 70-79: \"C\" 60-69: \"D\" Below 60: \"F\"\n",
    "#### Print the average grade and corresponding letter grade."
   ]
  },
  {
   "cell_type": "code",
   "execution_count": 1,
   "id": "f67e706e",
   "metadata": {},
   "outputs": [],
   "source": [
    "grades = [85, 92, 78, 60, 45]"
   ]
  },
  {
   "cell_type": "code",
   "execution_count": 2,
   "id": "f2b787e9",
   "metadata": {},
   "outputs": [],
   "source": [
    "average_grade = sum(grades) / len(grades)"
   ]
  },
  {
   "cell_type": "code",
   "execution_count": 3,
   "id": "7613f5e1",
   "metadata": {},
   "outputs": [],
   "source": [
    "if 90 <= average_grade <= 100:\n",
    "    letter_grade = \"A\"\n",
    "elif 80 <= average_grade < 90:\n",
    "    letter_grade = \"B\"\n",
    "elif 70 <= average_grade < 80:\n",
    "    letter_grade = \"C\"\n",
    "elif 60 <= average_grade < 70:\n",
    "    letter_grade = \"D\"\n",
    "else:\n",
    "    letter_grade = \"F\""
   ]
  },
  {
   "cell_type": "code",
   "execution_count": 4,
   "id": "1cd6e633",
   "metadata": {},
   "outputs": [
    {
     "name": "stdout",
     "output_type": "stream",
     "text": [
      "Average Grade: 72.00\n",
      "Letter Grade: C\n"
     ]
    }
   ],
   "source": [
    "print(f\"Average Grade: {average_grade:.2f}\")\n",
    "print(f\"Letter Grade: {letter_grade}\")"
   ]
  },
  {
   "cell_type": "markdown",
   "id": "603f15e4",
   "metadata": {},
   "source": [
    "# Task 2: Tuple Unpacking\n",
    "#### A. Create a tuple named student with your first name, last name, age, and a subject (in that order).\n",
    "#### B. Use tuple unpacking and an if-else condition to check if the student's age is above 18.\n",
    "#### C. If the age is above 18, print a message indicating that the student is an adult, otherwise print a message indicating that the student is a minor."
   ]
  },
  {
   "cell_type": "code",
   "execution_count": 6,
   "id": "b53f0a0d",
   "metadata": {},
   "outputs": [
    {
     "name": "stdout",
     "output_type": "stream",
     "text": [
      "Tyler Doherty is an adult.\n"
     ]
    }
   ],
   "source": [
    "student = (\"Tyler\", \"Doherty\", 19, \"Computer Science\")\n",
    "first_name, last_name, age, subject = student\n",
    "if age > 18:\n",
    "    print(f\"{first_name} {last_name} is an adult.\")\n",
    "else:\n",
    "    print(f\"{first_name} {last_name} is a minor.\")\n"
   ]
  },
  {
   "cell_type": "markdown",
   "id": "9023e61f",
   "metadata": {},
   "source": [
    "# Task 3: Month and date\n",
    "#### Write a Python program that will accept a number from 1 to 12 and display the name of the month and days in the month. Consider that the year is a regular year."
   ]
  },
  {
   "cell_type": "code",
   "execution_count": 9,
   "id": "e9f15136",
   "metadata": {},
   "outputs": [
    {
     "name": "stdout",
     "output_type": "stream",
     "text": [
      "Enter a number from 1 to 12: 6\n",
      "The month is June and it has 30 days.\n"
     ]
    }
   ],
   "source": [
    "month_number = int(input(\"Enter a number from 1 to 12: \"))\n",
    "month_names = [\n",
    "    \"January\", \"February\", \"March\", \"April\",\n",
    "    \"May\", \"June\", \"July\", \"August\",\n",
    "    \"September\", \"October\", \"November\", \"December\"\n",
    "]\n",
    "days_in_month = [31, 28, 31, 30, 31, 30, 31, 31, 30, 31, 30, 31]\n",
    "if 1 <= month_number <= 12:\n",
    "    month_name = month_names[month_number - 1]\n",
    "    num_days = days_in_month[month_number - 1]\n",
    "    print(f\"The month is {month_name} and it has {num_days} days.\")\n",
    "else:\n",
    "    print(\"Invalid input. Please enter a number from 1 to 12.\")\n"
   ]
  },
  {
   "cell_type": "markdown",
   "id": "9acbcc44",
   "metadata": {},
   "source": [
    "# Task 4: Triangle\n",
    "#### Accept three sides of a triangle and check whether it is an equilateral, isosceles, or scalene triangle."
   ]
  },
  {
   "cell_type": "code",
   "execution_count": 12,
   "id": "5a7fcc06",
   "metadata": {},
   "outputs": [
    {
     "name": "stdout",
     "output_type": "stream",
     "text": [
      "Enter the length of the first side: 6\n",
      "Enter the length of the second side: 7\n",
      "Enter the length of the third side: 4\n",
      "The triangle is scalene.\n"
     ]
    }
   ],
   "source": [
    "side1 = float(input(\"Enter the length of the first side: \"))\n",
    "side2 = float(input(\"Enter the length of the second side: \"))\n",
    "side3 = float(input(\"Enter the length of the third side: \"))\n",
    "if side1 + side2 > side3 and side1 + side3 > side2 and side2 + side3 > side1:\n",
    "    if side1 == side2 == side3:\n",
    "        triangle_type = \"equilateral\"\n",
    "    elif side1 == side2 or side1 == side3 or side2 == side3:\n",
    "        triangle_type = \"isosceles\"\n",
    "    else:\n",
    "        triangle_type = \"scalene\"\n",
    "    print(f\"The triangle is {triangle_type}.\")\n",
    "else:\n",
    "    print(\"These side lengths do not form a valid triangle.\")\n"
   ]
  },
  {
   "cell_type": "markdown",
   "id": "0124b4cb",
   "metadata": {},
   "source": [
    "# Task 5: List Comprehension and Filtering\n",
    "\n",
    "#### A. Create a list of named numbers containing integers from 21 to 40.\n",
    "#### B. Use list comprehension to create a new list named even_squares containing the squares of even numbers from numbers.\n",
    "#### C. Use list comprehension to create a new list named odd_cubes containing the cubes of odd numbers from numbers\n",
    "#### 3. Include a Markdown header comment with the name of the assignment, author, version, and semester information. Refer to the Markdown video to see how to do this.\n",
    "#### 4. Using the instructions provided by Github, create a local git repository and push your .ipynb file to it."
   ]
  },
  {
   "cell_type": "code",
   "execution_count": 13,
   "id": "7422f898",
   "metadata": {},
   "outputs": [
    {
     "name": "stdout",
     "output_type": "stream",
     "text": [
      "Original Numbers List: [21, 22, 23, 24, 25, 26, 27, 28, 29, 30, 31, 32, 33, 34, 35, 36, 37, 38, 39, 40]\n",
      "Even Squares List: [484, 576, 676, 784, 900, 1024, 1156, 1296, 1444, 1600]\n",
      "Odd Cubes List: [9261, 12167, 15625, 19683, 24389, 29791, 35937, 42875, 50653, 59319]\n"
     ]
    }
   ],
   "source": [
    "numbers = list(range(21, 41))\n",
    "even_squares = [x ** 2 for x in numbers if x % 2 == 0]\n",
    "odd_cubes = [x ** 3 for x in numbers if x % 2 != 0]\n",
    "print(\"Original Numbers List:\", numbers)\n",
    "print(\"Even Squares List:\", even_squares)\n",
    "print(\"Odd Cubes List:\", odd_cubes)"
   ]
  },
  {
   "cell_type": "code",
   "execution_count": null,
   "id": "85f80434",
   "metadata": {},
   "outputs": [],
   "source": []
  }
 ],
 "metadata": {
  "kernelspec": {
   "display_name": "Python 3 (ipykernel)",
   "language": "python",
   "name": "python3"
  },
  "language_info": {
   "codemirror_mode": {
    "name": "ipython",
    "version": 3
   },
   "file_extension": ".py",
   "mimetype": "text/x-python",
   "name": "python",
   "nbconvert_exporter": "python",
   "pygments_lexer": "ipython3",
   "version": "3.11.4"
  }
 },
 "nbformat": 4,
 "nbformat_minor": 5
}
